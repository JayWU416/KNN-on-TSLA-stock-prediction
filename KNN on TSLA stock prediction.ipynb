{
 "cells": [
  {
   "cell_type": "code",
   "execution_count": 1,
   "id": "e65b4942",
   "metadata": {},
   "outputs": [],
   "source": [
    "import numpy as np\n",
    "import pandas as pd\n",
    "import matplotlib.pyplot as plt\n",
    "import seaborn as sns\n",
    "\n",
    "from scipy.stats import mode"
   ]
  },
  {
   "cell_type": "code",
   "execution_count": 2,
   "id": "b623ae0a",
   "metadata": {},
   "outputs": [
    {
     "data": {
      "text/plain": [
       "Date         0\n",
       "High         0\n",
       "Low          0\n",
       "Open         0\n",
       "Close        0\n",
       "Volume       0\n",
       "Adj Close    0\n",
       "dtype: int64"
      ]
     },
     "execution_count": 2,
     "metadata": {},
     "output_type": "execute_result"
    }
   ],
   "source": [
    "dataset = pd.DataFrame(pd.read_excel(\"tsla_2020.xlsx\"))\n",
    "dataset.isnull().sum()"
   ]
  },
  {
   "cell_type": "code",
   "execution_count": 3,
   "id": "8b7904ef",
   "metadata": {},
   "outputs": [
    {
     "data": {
      "text/html": [
       "<div>\n",
       "<style scoped>\n",
       "    .dataframe tbody tr th:only-of-type {\n",
       "        vertical-align: middle;\n",
       "    }\n",
       "\n",
       "    .dataframe tbody tr th {\n",
       "        vertical-align: top;\n",
       "    }\n",
       "\n",
       "    .dataframe thead th {\n",
       "        text-align: right;\n",
       "    }\n",
       "</style>\n",
       "<table border=\"1\" class=\"dataframe\">\n",
       "  <thead>\n",
       "    <tr style=\"text-align: right;\">\n",
       "      <th></th>\n",
       "      <th>Date</th>\n",
       "      <th>High</th>\n",
       "      <th>Low</th>\n",
       "      <th>Open</th>\n",
       "      <th>Close</th>\n",
       "      <th>Volume</th>\n",
       "      <th>Adj Close</th>\n",
       "    </tr>\n",
       "  </thead>\n",
       "  <tbody>\n",
       "    <tr>\n",
       "      <th>0</th>\n",
       "      <td>2020-01-02</td>\n",
       "      <td>86.139999</td>\n",
       "      <td>84.342003</td>\n",
       "      <td>84.900002</td>\n",
       "      <td>86.052002</td>\n",
       "      <td>47660500</td>\n",
       "      <td>86.052002</td>\n",
       "    </tr>\n",
       "    <tr>\n",
       "      <th>1</th>\n",
       "      <td>2020-01-03</td>\n",
       "      <td>90.800003</td>\n",
       "      <td>87.384003</td>\n",
       "      <td>88.099998</td>\n",
       "      <td>88.601997</td>\n",
       "      <td>88892500</td>\n",
       "      <td>88.601997</td>\n",
       "    </tr>\n",
       "    <tr>\n",
       "      <th>2</th>\n",
       "      <td>2020-01-06</td>\n",
       "      <td>90.311996</td>\n",
       "      <td>88.000000</td>\n",
       "      <td>88.094002</td>\n",
       "      <td>90.307999</td>\n",
       "      <td>50665000</td>\n",
       "      <td>90.307999</td>\n",
       "    </tr>\n",
       "    <tr>\n",
       "      <th>3</th>\n",
       "      <td>2020-01-07</td>\n",
       "      <td>94.325996</td>\n",
       "      <td>90.671997</td>\n",
       "      <td>92.279999</td>\n",
       "      <td>93.811996</td>\n",
       "      <td>89410500</td>\n",
       "      <td>93.811996</td>\n",
       "    </tr>\n",
       "    <tr>\n",
       "      <th>4</th>\n",
       "      <td>2020-01-08</td>\n",
       "      <td>99.697998</td>\n",
       "      <td>93.646004</td>\n",
       "      <td>94.739998</td>\n",
       "      <td>98.428001</td>\n",
       "      <td>155721500</td>\n",
       "      <td>98.428001</td>\n",
       "    </tr>\n",
       "  </tbody>\n",
       "</table>\n",
       "</div>"
      ],
      "text/plain": [
       "        Date       High        Low       Open      Close     Volume  Adj Close\n",
       "0 2020-01-02  86.139999  84.342003  84.900002  86.052002   47660500  86.052002\n",
       "1 2020-01-03  90.800003  87.384003  88.099998  88.601997   88892500  88.601997\n",
       "2 2020-01-06  90.311996  88.000000  88.094002  90.307999   50665000  90.307999\n",
       "3 2020-01-07  94.325996  90.671997  92.279999  93.811996   89410500  93.811996\n",
       "4 2020-01-08  99.697998  93.646004  94.739998  98.428001  155721500  98.428001"
      ]
     },
     "execution_count": 3,
     "metadata": {},
     "output_type": "execute_result"
    }
   ],
   "source": [
    "dataset.head()"
   ]
  },
  {
   "cell_type": "code",
   "execution_count": 4,
   "id": "3bc90c18",
   "metadata": {
    "scrolled": true
   },
   "outputs": [
    {
     "data": {
      "text/html": [
       "<div>\n",
       "<style scoped>\n",
       "    .dataframe tbody tr th:only-of-type {\n",
       "        vertical-align: middle;\n",
       "    }\n",
       "\n",
       "    .dataframe tbody tr th {\n",
       "        vertical-align: top;\n",
       "    }\n",
       "\n",
       "    .dataframe thead th {\n",
       "        text-align: right;\n",
       "    }\n",
       "</style>\n",
       "<table border=\"1\" class=\"dataframe\">\n",
       "  <thead>\n",
       "    <tr style=\"text-align: right;\">\n",
       "      <th></th>\n",
       "      <th>Open-Close</th>\n",
       "      <th>High-Low</th>\n",
       "    </tr>\n",
       "  </thead>\n",
       "  <tbody>\n",
       "    <tr>\n",
       "      <th>0</th>\n",
       "      <td>-1.152000</td>\n",
       "      <td>1.797997</td>\n",
       "    </tr>\n",
       "    <tr>\n",
       "      <th>1</th>\n",
       "      <td>-0.501999</td>\n",
       "      <td>3.416000</td>\n",
       "    </tr>\n",
       "    <tr>\n",
       "      <th>2</th>\n",
       "      <td>-2.213997</td>\n",
       "      <td>2.311996</td>\n",
       "    </tr>\n",
       "    <tr>\n",
       "      <th>3</th>\n",
       "      <td>-1.531998</td>\n",
       "      <td>3.653999</td>\n",
       "    </tr>\n",
       "    <tr>\n",
       "      <th>4</th>\n",
       "      <td>-3.688004</td>\n",
       "      <td>6.051994</td>\n",
       "    </tr>\n",
       "  </tbody>\n",
       "</table>\n",
       "</div>"
      ],
      "text/plain": [
       "   Open-Close  High-Low\n",
       "0   -1.152000  1.797997\n",
       "1   -0.501999  3.416000\n",
       "2   -2.213997  2.311996\n",
       "3   -1.531998  3.653999\n",
       "4   -3.688004  6.051994"
      ]
     },
     "execution_count": 4,
     "metadata": {},
     "output_type": "execute_result"
    }
   ],
   "source": [
    "dataset['Open-Close'] = dataset.Open - dataset.Close\n",
    "dataset['High-Low'] = dataset.High - dataset.Low\n",
    "dataset = dataset.dropna()\n",
    "X = dataset[['Open-Close','High-Low']]\n",
    "X.head()"
   ]
  },
  {
   "cell_type": "code",
   "execution_count": 5,
   "id": "bc224e9c",
   "metadata": {},
   "outputs": [],
   "source": [
    "Y= np.where(dataset['Close'].shift(-1)>dataset['Close'],1,-1)"
   ]
  },
  {
   "cell_type": "code",
   "execution_count": 6,
   "id": "5116c943",
   "metadata": {},
   "outputs": [],
   "source": [
    "split_percentage = 0.8\n",
    "split = int(split_percentage*len(dataset))\n",
    "\n",
    "X_train = X[:split]\n",
    "Y_train = Y[:split]\n",
    "\n",
    "X_test = X[:split]\n",
    "Y_test = Y[:split]\n"
   ]
  },
  {
   "cell_type": "code",
   "execution_count": 17,
   "id": "1a457503",
   "metadata": {},
   "outputs": [],
   "source": [
    "from sklearn.neighbors import KNeighborsClassifier\n",
    "from sklearn.metrics import accuracy_score, confusion_matrix, classification_report"
   ]
  },
  {
   "cell_type": "code",
   "execution_count": 8,
   "id": "f18dc3da",
   "metadata": {
    "scrolled": false
   },
   "outputs": [
    {
     "name": "stdout",
     "output_type": "stream",
     "text": [
      "For k= 1\n",
      "accuracy_train:  1.0\n",
      "accuracy_test :  1.0\n",
      "[[ 87   0]\n",
      " [  0 115]]\n",
      "For k= 2\n",
      "accuracy_train:  0.7772277227722773\n",
      "accuracy_test :  0.7772277227722773\n",
      "[[87  0]\n",
      " [45 70]]\n",
      "For k= 3\n",
      "accuracy_train:  0.7871287128712872\n",
      "accuracy_test :  0.7871287128712872\n",
      "[[ 58  29]\n",
      " [ 14 101]]\n",
      "For k= 4\n",
      "accuracy_train:  0.7326732673267327\n",
      "accuracy_test :  0.7326732673267327\n",
      "[[69 18]\n",
      " [36 79]]\n",
      "For k= 5\n",
      "accuracy_train:  0.698019801980198\n",
      "accuracy_test :  0.698019801980198\n",
      "[[49 38]\n",
      " [23 92]]\n",
      "For k= 6\n",
      "accuracy_train:  0.7079207920792079\n",
      "accuracy_test :  0.7079207920792079\n",
      "[[61 26]\n",
      " [33 82]]\n",
      "For k= 7\n",
      "accuracy_train:  0.7079207920792079\n",
      "accuracy_test :  0.7079207920792079\n",
      "[[49 38]\n",
      " [21 94]]\n",
      "For k= 8\n",
      "accuracy_train:  0.6732673267326733\n",
      "accuracy_test :  0.6732673267326733\n",
      "[[56 31]\n",
      " [35 80]]\n",
      "For k= 9\n",
      "accuracy_train:  0.6435643564356436\n",
      "accuracy_test :  0.6435643564356436\n",
      "[[43 44]\n",
      " [28 87]]\n",
      "For k= 10\n",
      "accuracy_train:  0.6485148514851485\n",
      "accuracy_test :  0.6485148514851485\n",
      "[[55 32]\n",
      " [39 76]]\n",
      "For k= 11\n",
      "accuracy_train:  0.6336633663366337\n",
      "accuracy_test :  0.6336633663366337\n",
      "[[42 45]\n",
      " [29 86]]\n",
      "For k= 12\n",
      "accuracy_train:  0.6039603960396039\n",
      "accuracy_test :  0.6039603960396039\n",
      "[[50 37]\n",
      " [43 72]]\n",
      "For k= 13\n",
      "accuracy_train:  0.6188118811881188\n",
      "accuracy_test :  0.6188118811881188\n",
      "[[37 50]\n",
      " [27 88]]\n",
      "For k= 14\n",
      "accuracy_train:  0.594059405940594\n",
      "accuracy_test :  0.594059405940594\n",
      "[[46 41]\n",
      " [41 74]]\n",
      "For k= 15\n",
      "accuracy_train:  0.6039603960396039\n",
      "accuracy_test :  0.6039603960396039\n",
      "[[35 52]\n",
      " [28 87]]\n",
      "For k= 16\n",
      "accuracy_train:  0.599009900990099\n",
      "accuracy_test :  0.599009900990099\n",
      "[[40 47]\n",
      " [34 81]]\n",
      "For k= 17\n",
      "accuracy_train:  0.594059405940594\n",
      "accuracy_test :  0.594059405940594\n",
      "[[33 54]\n",
      " [28 87]]\n",
      "For k= 18\n",
      "accuracy_train:  0.5891089108910891\n",
      "accuracy_test :  0.5891089108910891\n",
      "[[39 48]\n",
      " [35 80]]\n",
      "For k= 19\n",
      "accuracy_train:  0.5891089108910891\n",
      "accuracy_test :  0.5891089108910891\n",
      "[[33 54]\n",
      " [29 86]]\n",
      "For k= 20\n",
      "accuracy_train:  0.594059405940594\n",
      "accuracy_test :  0.594059405940594\n",
      "[[38 49]\n",
      " [33 82]]\n",
      "For k= 21\n",
      "accuracy_train:  0.6039603960396039\n",
      "accuracy_test :  0.6039603960396039\n",
      "[[33 54]\n",
      " [26 89]]\n",
      "For k= 22\n",
      "accuracy_train:  0.594059405940594\n",
      "accuracy_test :  0.594059405940594\n",
      "[[37 50]\n",
      " [32 83]]\n",
      "For k= 23\n",
      "accuracy_train:  0.5544554455445545\n",
      "accuracy_test :  0.5544554455445545\n",
      "[[25 62]\n",
      " [28 87]]\n",
      "For k= 24\n",
      "accuracy_train:  0.5792079207920792\n",
      "accuracy_test :  0.5792079207920792\n",
      "[[32 55]\n",
      " [30 85]]\n",
      "For k= 25\n",
      "accuracy_train:  0.5792079207920792\n",
      "accuracy_test :  0.5792079207920792\n",
      "[[26 61]\n",
      " [24 91]]\n",
      "For k= 26\n",
      "accuracy_train:  0.5891089108910891\n",
      "accuracy_test :  0.5891089108910891\n",
      "[[32 55]\n",
      " [28 87]]\n",
      "For k= 27\n",
      "accuracy_train:  0.5594059405940595\n",
      "accuracy_test :  0.5594059405940595\n",
      "[[24 63]\n",
      " [26 89]]\n",
      "For k= 28\n",
      "accuracy_train:  0.5891089108910891\n",
      "accuracy_test :  0.5891089108910891\n",
      "[[31 56]\n",
      " [27 88]]\n",
      "For k= 29\n",
      "accuracy_train:  0.5742574257425742\n",
      "accuracy_test :  0.5742574257425742\n",
      "[[26 61]\n",
      " [25 90]]\n",
      "For k= 30\n",
      "accuracy_train:  0.5742574257425742\n",
      "accuracy_test :  0.5742574257425742\n",
      "[[28 59]\n",
      " [27 88]]\n"
     ]
    }
   ],
   "source": [
    "x = range(1, 31)\n",
    "n_neighbors_value = []\n",
    "accuracy_train_value = []\n",
    "accuracy_test_value = []\n",
    "\n",
    "for n_neighbors in x:  \n",
    "    knn = KNeighborsClassifier(n_neighbors)\n",
    "    #Fitting the data for x and y VARIABLE\n",
    "    knn.fit(X_train, Y_train)\n",
    "    #trainnig the accuracy train and and test data\n",
    "    accuracy_train = accuracy_score(Y_train, knn.predict(X_train))\n",
    "    accuracy_test = accuracy_score(Y_test, knn.predict(X_test))\n",
    "    print(r'For k=' ,n_neighbors)\n",
    "    print(f'accuracy_train: ' ,accuracy_train)\n",
    "    print(f'accuracy_test : ' ,accuracy_test)\n",
    "    n_neighbors_value.append(n_neighbors)\n",
    "    accuracy_train_value.append(accuracy_train)\n",
    "    accuracy_test_value.append(accuracy_test)\n",
    "    print(confusion_matrix(Y_test, knn.predict(X_test)))"
   ]
  },
  {
   "cell_type": "code",
   "execution_count": 9,
   "id": "043137b9",
   "metadata": {
    "scrolled": true
   },
   "outputs": [
    {
     "data": {
      "image/png": "[encoded data removed]",
      "text/plain": [
       "<Figure size 432x288 with 1 Axes>"
      ]
     },
     "metadata": {
      "needs_background": "light"
     },
     "output_type": "display_data"
    }
   ],
   "source": [
    "from matplotlib import pyplot as plt\n",
    "plt.plot(n_neighbors_value, accuracy_train_value)\n",
    "plt.xlabel('n_neighbors')\n",
    "plt.ylabel('accuracy_train')\n",
    "plt.title('Train Accuracy')\n",
    "plt.show()"
   ]
  },
  {
   "cell_type": "code",
   "execution_count": 10,
   "id": "3b45b86d",
   "metadata": {
    "scrolled": true
   },
   "outputs": [
    {
     "data": {
      "image/png": "[encoded data removed]",
      "text/plain": [
       "<Figure size 432x288 with 1 Axes>"
      ]
     },
     "metadata": {
      "needs_background": "light"
     },
     "output_type": "display_data"
    }
   ],
   "source": [
    "plt.plot(n_neighbors_value, accuracy_test_value)\n",
    "plt.xlabel('n_neighbors')\n",
    "plt.ylabel('accuracy_train')\n",
    "plt.title('Test Accuracy')\n",
    "plt.show()"
   ]
  },
  {
   "cell_type": "code",
   "execution_count": 11,
   "id": "8bed3574",
   "metadata": {
    "scrolled": true
   },
   "outputs": [
    {
     "data": {
      "text/html": [
       "<div>\n",
       "<style scoped>\n",
       "    .dataframe tbody tr th:only-of-type {\n",
       "        vertical-align: middle;\n",
       "    }\n",
       "\n",
       "    .dataframe tbody tr th {\n",
       "        vertical-align: top;\n",
       "    }\n",
       "\n",
       "    .dataframe thead th {\n",
       "        text-align: right;\n",
       "    }\n",
       "</style>\n",
       "<table border=\"1\" class=\"dataframe\">\n",
       "  <thead>\n",
       "    <tr style=\"text-align: right;\">\n",
       "      <th></th>\n",
       "      <th>High</th>\n",
       "      <th>Low</th>\n",
       "      <th>Open</th>\n",
       "      <th>Close</th>\n",
       "      <th>Volume</th>\n",
       "      <th>Adj Close</th>\n",
       "      <th>Open-Close</th>\n",
       "      <th>High-Low</th>\n",
       "    </tr>\n",
       "  </thead>\n",
       "  <tbody>\n",
       "    <tr>\n",
       "      <th>High</th>\n",
       "      <td>1.000000</td>\n",
       "      <td>0.998116</td>\n",
       "      <td>0.998722</td>\n",
       "      <td>0.998931</td>\n",
       "      <td>-0.347166</td>\n",
       "      <td>0.998931</td>\n",
       "      <td>-0.107740</td>\n",
       "      <td>0.653832</td>\n",
       "    </tr>\n",
       "    <tr>\n",
       "      <th>Low</th>\n",
       "      <td>0.998116</td>\n",
       "      <td>1.000000</td>\n",
       "      <td>0.998407</td>\n",
       "      <td>0.998407</td>\n",
       "      <td>-0.383821</td>\n",
       "      <td>0.998407</td>\n",
       "      <td>-0.104925</td>\n",
       "      <td>0.606177</td>\n",
       "    </tr>\n",
       "    <tr>\n",
       "      <th>Open</th>\n",
       "      <td>0.998722</td>\n",
       "      <td>0.998407</td>\n",
       "      <td>1.000000</td>\n",
       "      <td>0.997204</td>\n",
       "      <td>-0.365506</td>\n",
       "      <td>0.997204</td>\n",
       "      <td>-0.067755</td>\n",
       "      <td>0.633676</td>\n",
       "    </tr>\n",
       "    <tr>\n",
       "      <th>Close</th>\n",
       "      <td>0.998931</td>\n",
       "      <td>0.998407</td>\n",
       "      <td>0.997204</td>\n",
       "      <td>1.000000</td>\n",
       "      <td>-0.360490</td>\n",
       "      <td>1.000000</td>\n",
       "      <td>-0.142125</td>\n",
       "      <td>0.636377</td>\n",
       "    </tr>\n",
       "    <tr>\n",
       "      <th>Volume</th>\n",
       "      <td>-0.347166</td>\n",
       "      <td>-0.383821</td>\n",
       "      <td>-0.365506</td>\n",
       "      <td>-0.360490</td>\n",
       "      <td>1.000000</td>\n",
       "      <td>-0.360490</td>\n",
       "      <td>-0.028563</td>\n",
       "      <td>0.233127</td>\n",
       "    </tr>\n",
       "    <tr>\n",
       "      <th>Adj Close</th>\n",
       "      <td>0.998931</td>\n",
       "      <td>0.998407</td>\n",
       "      <td>0.997204</td>\n",
       "      <td>1.000000</td>\n",
       "      <td>-0.360490</td>\n",
       "      <td>1.000000</td>\n",
       "      <td>-0.142125</td>\n",
       "      <td>0.636377</td>\n",
       "    </tr>\n",
       "    <tr>\n",
       "      <th>Open-Close</th>\n",
       "      <td>-0.107740</td>\n",
       "      <td>-0.104925</td>\n",
       "      <td>-0.067755</td>\n",
       "      <td>-0.142125</td>\n",
       "      <td>-0.028563</td>\n",
       "      <td>-0.142125</td>\n",
       "      <td>1.000000</td>\n",
       "      <td>-0.102650</td>\n",
       "    </tr>\n",
       "    <tr>\n",
       "      <th>High-Low</th>\n",
       "      <td>0.653832</td>\n",
       "      <td>0.606177</td>\n",
       "      <td>0.633676</td>\n",
       "      <td>0.636377</td>\n",
       "      <td>0.233127</td>\n",
       "      <td>0.636377</td>\n",
       "      <td>-0.102650</td>\n",
       "      <td>1.000000</td>\n",
       "    </tr>\n",
       "  </tbody>\n",
       "</table>\n",
       "</div>"
      ],
      "text/plain": [
       "                High       Low      Open     Close    Volume  Adj Close  \\\n",
       "High        1.000000  0.998116  0.998722  0.998931 -0.347166   0.998931   \n",
       "Low         0.998116  1.000000  0.998407  0.998407 -0.383821   0.998407   \n",
       "Open        0.998722  0.998407  1.000000  0.997204 -0.365506   0.997204   \n",
       "Close       0.998931  0.998407  0.997204  1.000000 -0.360490   1.000000   \n",
       "Volume     -0.347166 -0.383821 -0.365506 -0.360490  1.000000  -0.360490   \n",
       "Adj Close   0.998931  0.998407  0.997204  1.000000 -0.360490   1.000000   \n",
       "Open-Close -0.107740 -0.104925 -0.067755 -0.142125 -0.028563  -0.142125   \n",
       "High-Low    0.653832  0.606177  0.633676  0.636377  0.233127   0.636377   \n",
       "\n",
       "            Open-Close  High-Low  \n",
       "High         -0.107740  0.653832  \n",
       "Low          -0.104925  0.606177  \n",
       "Open         -0.067755  0.633676  \n",
       "Close        -0.142125  0.636377  \n",
       "Volume       -0.028563  0.233127  \n",
       "Adj Close    -0.142125  0.636377  \n",
       "Open-Close    1.000000 -0.102650  \n",
       "High-Low     -0.102650  1.000000  "
      ]
     },
     "execution_count": 11,
     "metadata": {},
     "output_type": "execute_result"
    }
   ],
   "source": [
    "corrM = dataset.corr()\n",
    "corrM"
   ]
  },
  {
   "cell_type": "code",
   "execution_count": 19,
   "id": "0c32c6c7",
   "metadata": {},
   "outputs": [
    {
     "name": "stdout",
     "output_type": "stream",
     "text": [
      "              precision    recall  f1-score   support\n",
      "\n",
      "          -1       0.81      0.67      0.73        87\n",
      "           1       0.78      0.88      0.82       115\n",
      "\n",
      "    accuracy                           0.79       202\n",
      "   macro avg       0.79      0.77      0.78       202\n",
      "weighted avg       0.79      0.79      0.78       202\n",
      "\n"
     ]
    }
   ],
   "source": [
    "knn_final = KNeighborsClassifier(n_neighbors=3)\n",
    "knn_final.fit(X_train, Y_train)\n",
    "y_pred = knn_final.predict(X_test)\n",
    "\n",
    "print(classification_report(Y_test, y_pred))\n"
   ]
  },
  {
   "cell_type": "code",
   "execution_count": 13,
   "id": "3f06f6e2",
   "metadata": {
    "scrolled": true
   },
   "outputs": [
    {
     "data": {
      "text/plain": [
       "array([ 1,  1,  1,  1,  1, -1,  1,  1,  1, -1,  1,  1, -1,  1, -1,  1,  1,\n",
       "        1,  1, -1,  1,  1, -1,  1, -1,  1,  1, -1,  1, -1,  1,  1, -1,  1,\n",
       "        1, -1, -1, -1, -1,  1,  1,  1,  1, -1,  1,  1, -1, -1, -1,  1,  1,\n",
       "       -1,  1, -1,  1,  1, -1, -1, -1, -1,  1, -1,  1,  1,  1,  1,  1,  1,\n",
       "        1,  1,  1,  1,  1, -1,  1,  1, -1,  1, -1,  1,  1,  1,  1,  1,  1,\n",
       "        1, -1,  1, -1, -1,  1,  1, -1,  1, -1,  1,  1,  1,  1, -1, -1,  1,\n",
       "        1, -1,  1, -1,  1,  1, -1,  1, -1, -1,  1,  1,  1,  1, -1, -1,  1,\n",
       "        1,  1, -1,  1,  1,  1,  1,  1,  1, -1,  1,  1,  1, -1,  1,  1,  1,\n",
       "        1, -1,  1, -1,  1, -1,  1, -1, -1, -1, -1,  1, -1,  1, -1,  1,  1,\n",
       "        1, -1,  1,  1,  1, -1, -1, -1, -1,  1,  1,  1, -1,  1,  1,  1, -1,\n",
       "       -1, -1,  1,  1,  1,  1,  1, -1, -1,  1,  1,  1,  1,  1,  1,  1, -1,\n",
       "        1,  1,  1,  1, -1,  1,  1, -1,  1,  1,  1, -1, -1, -1, -1])"
      ]
     },
     "execution_count": 13,
     "metadata": {},
     "output_type": "execute_result"
    }
   ],
   "source": [
    "y_pred"
   ]
  },
  {
   "cell_type": "code",
   "execution_count": null,
   "id": "bb49a836",
   "metadata": {},
   "outputs": [],
   "source": []
  }
 ],
 "metadata": {
  "kernelspec": {
   "display_name": "Python 3 (ipykernel)",
   "language": "python",
   "name": "python3"
  },
  "language_info": {
   "codemirror_mode": {
    "name": "ipython",
    "version": 3
   },
   "file_extension": ".py",
   "mimetype": "text/x-python",
   "name": "python",
   "nbconvert_exporter": "python",
   "pygments_lexer": "ipython3",
   "version": "3.9.7"
  }
 },
 "nbformat": 4,
 "nbformat_minor": 5
}
